{
 "cells": [
  {
   "cell_type": "code",
   "execution_count": 2,
   "id": "250826e9-8430-43d0-885c-8a0e351b06c2",
   "metadata": {},
   "outputs": [],
   "source": [
    "import cv2\n",
    "import numpy as np"
   ]
  },
  {
   "cell_type": "markdown",
   "id": "bd6b3337-ffb5-4694-8a31-b80ce689faee",
   "metadata": {},
   "source": [
    "# Read the Image"
   ]
  },
  {
   "cell_type": "code",
   "execution_count": 6,
   "id": "8f4c65d9-97af-415e-afb0-dddb81fbb3fe",
   "metadata": {},
   "outputs": [
    {
     "data": {
      "text/plain": [
       "-1"
      ]
     },
     "execution_count": 6,
     "metadata": {},
     "output_type": "execute_result"
    }
   ],
   "source": [
    "img = cv2.imread(r\"C:\\Users\\ASUS\\Downloads\\grape.png\") # Read Image\n",
    "cv2.imshow(\"window\", img) # Display Image\n",
    "cv2.waitKey(0) # Keep displaying image infinite time"
   ]
  },
  {
   "cell_type": "markdown",
   "id": "f6be923a-e04b-4739-b638-93532364d86d",
   "metadata": {},
   "source": [
    "## Convert RGB to Gray Scale"
   ]
  },
  {
   "cell_type": "code",
   "execution_count": 7,
   "id": "1b97d661-f1df-4396-92c8-82bbc7616d36",
   "metadata": {},
   "outputs": [
    {
     "data": {
      "text/plain": [
       "-1"
      ]
     },
     "execution_count": 7,
     "metadata": {},
     "output_type": "execute_result"
    }
   ],
   "source": [
    "img_grey = cv2.cvtColor(img, cv2.COLOR_BGR2GRAY) # RGB == BGR converting to gray scale image\n",
    "\n",
    "cv2.imshow(\"window\", img_grey ) # Display Image\n",
    "cv2.waitKey(0) # Keep displaying image infinite time"
   ]
  },
  {
   "cell_type": "markdown",
   "id": "353d8d20-3999-4e7c-9d36-3f17392250b8",
   "metadata": {},
   "source": [
    "## Playing with RGB"
   ]
  },
  {
   "cell_type": "code",
   "execution_count": 8,
   "id": "8047255a-7510-4f15-a2b9-36e820b1f611",
   "metadata": {},
   "outputs": [],
   "source": [
    "# img[:,:,0] = 0 # Playing with RGB making Blue = 0 this color will remove from RGB remain RG\n",
    "\n",
    "\n",
    "imgBlue = img[:,:,0]\n",
    "imgGreen = img[:,:,1]\n",
    "imgRed= img[:,:,2]"
   ]
  },
  {
   "cell_type": "code",
   "execution_count": 9,
   "id": "066d5b59-d16d-4a3d-a7ab-6449dd8d50af",
   "metadata": {},
   "outputs": [
    {
     "data": {
      "text/plain": [
       "-1"
      ]
     },
     "execution_count": 9,
     "metadata": {},
     "output_type": "execute_result"
    }
   ],
   "source": [
    "new_img = np.hstack((imgBlue, imgGreen , imgRed)) # Analyze Miltple image at a time\n",
    "cv2.imshow(\"window\", new_img) \n",
    "cv2.waitKey(0)"
   ]
  },
  {
   "cell_type": "markdown",
   "id": "1a5c5fd5-e261-48b4-bd24-25f463976c1f",
   "metadata": {},
   "source": [
    "### Resize Image "
   ]
  },
  {
   "cell_type": "code",
   "execution_count": 10,
   "id": "1ea116fb-1b02-42e7-a902-230b32fb428c",
   "metadata": {},
   "outputs": [
    {
     "name": "stdout",
     "output_type": "stream",
     "text": [
      "(720, 1080, 3)\n"
     ]
    },
    {
     "data": {
      "text/plain": [
       "-1"
      ]
     },
     "execution_count": 10,
     "metadata": {},
     "output_type": "execute_result"
    }
   ],
   "source": [
    "img_resize = cv2.resize(img, (1080,720))\n",
    "cv2.imshow(\"window\", img_resize) \n",
    "print(img_resize.shape)\n",
    "cv2.waitKey(0)"
   ]
  },
  {
   "cell_type": "markdown",
   "id": "138b8b4a-6a31-4876-b210-89258d582848",
   "metadata": {},
   "source": [
    "### Image Flip"
   ]
  },
  {
   "cell_type": "code",
   "execution_count": 11,
   "id": "8b218f23-4601-4ffb-9b57-50f4682a3bf8",
   "metadata": {},
   "outputs": [
    {
     "data": {
      "text/plain": [
       "-1"
      ]
     },
     "execution_count": 11,
     "metadata": {},
     "output_type": "execute_result"
    }
   ],
   "source": [
    "img_flip = cv2.flip(img, 1) # 0 = reverse , 1 = horizontal flip , -1 = combine 0 and 1\n",
    "cv2.imshow(\"window\", img_flip) \n",
    "\n",
    "cv2.waitKey(0)"
   ]
  },
  {
   "cell_type": "markdown",
   "id": "3df3725c-89e0-4954-a92a-4a397a3a9ddc",
   "metadata": {},
   "source": [
    "# Image Crop"
   ]
  },
  {
   "cell_type": "code",
   "execution_count": 12,
   "id": "a4c811b6-ade7-4906-ba46-187c932ee4f7",
   "metadata": {},
   "outputs": [
    {
     "data": {
      "text/plain": [
       "-1"
      ]
     },
     "execution_count": 12,
     "metadata": {},
     "output_type": "execute_result"
    }
   ],
   "source": [
    "img_crop = img[0:300, 200:500] # height, width slicing\n",
    "cv2.imwrite(\"fruits_small.png\",img_crop) # Save Image\n",
    "cv2.imshow(\"window\", img_crop) \n",
    "\n",
    "cv2.waitKey(0)"
   ]
  },
  {
   "cell_type": "markdown",
   "id": "718f2a1a-8266-4558-b6ba-1c7a54be61f4",
   "metadata": {},
   "source": [
    "## Drawing Shapes"
   ]
  },
  {
   "cell_type": "code",
   "execution_count": 13,
   "id": "43a0801a-ec87-4544-81be-4d309267b6f2",
   "metadata": {},
   "outputs": [
    {
     "data": {
      "text/plain": [
       "-1"
      ]
     },
     "execution_count": 13,
     "metadata": {},
     "output_type": "execute_result"
    }
   ],
   "source": [
    "img = np.zeros((512,512,3)) # create Image\n",
    "cv2.imshow(\"window\", img) \n",
    "cv2.waitKey(0)"
   ]
  },
  {
   "cell_type": "markdown",
   "id": "0347316b-a658-4f2a-83e1-2f1d89ebd00b",
   "metadata": {},
   "source": [
    "## <b> Rectangle"
   ]
  },
  {
   "cell_type": "code",
   "execution_count": 14,
   "id": "ec056131-7adf-4771-94dc-4e88cecacef9",
   "metadata": {},
   "outputs": [
    {
     "data": {
      "text/plain": [
       "-1"
      ]
     },
     "execution_count": 14,
     "metadata": {},
     "output_type": "execute_result"
    }
   ],
   "source": [
    "cv2.rectangle(img, pt1=(100,100),pt2=(300,300), color=(255,0,0), thickness=3)\n",
    "cv2.imshow(\"window\", img) # show blue rectangle\n",
    "cv2.waitKey(0)"
   ]
  },
  {
   "cell_type": "code",
   "execution_count": 15,
   "id": "cd82e121-dafc-4994-bd95-af5772c4c1a8",
   "metadata": {},
   "outputs": [
    {
     "data": {
      "text/plain": [
       "-1"
      ]
     },
     "execution_count": 15,
     "metadata": {},
     "output_type": "execute_result"
    }
   ],
   "source": [
    "cv2.rectangle(img, pt1=(100,100),pt2=(300,300), color=(255,0,0), thickness=-1)\n",
    "cv2.imshow(\"window\", img) # show blue filled rectangle\n",
    "cv2.waitKey(0)"
   ]
  },
  {
   "cell_type": "markdown",
   "id": "33d96f74-83d2-402a-8a50-a10ea814cfe8",
   "metadata": {},
   "source": [
    "## <b> Circle"
   ]
  },
  {
   "cell_type": "code",
   "execution_count": 16,
   "id": "8840d173-76cf-4c31-8972-6d7cc63246e7",
   "metadata": {},
   "outputs": [
    {
     "data": {
      "text/plain": [
       "-1"
      ]
     },
     "execution_count": 16,
     "metadata": {},
     "output_type": "execute_result"
    }
   ],
   "source": [
    "cv2.circle(img, center=(100,400),radius=50,color=(0,0,255), thickness = 3) \n",
    "cv2.imshow(\"window\", img) # show red circle\n",
    "cv2.waitKey(0)"
   ]
  },
  {
   "cell_type": "code",
   "execution_count": 17,
   "id": "431c67cb-393a-4694-887c-cc82352ecce0",
   "metadata": {},
   "outputs": [
    {
     "data": {
      "text/plain": [
       "-1"
      ]
     },
     "execution_count": 17,
     "metadata": {},
     "output_type": "execute_result"
    }
   ],
   "source": [
    "cv2.circle(img, center=(100,400),radius=50,color=(0,0,255), thickness = -1) \n",
    "cv2.imshow(\"window\", img) # show  filled red circle\n",
    "cv2.waitKey(0)"
   ]
  },
  {
   "cell_type": "markdown",
   "id": "98f911d7-ec68-449f-8160-499b66b81ed5",
   "metadata": {},
   "source": [
    "## <b> Line "
   ]
  },
  {
   "cell_type": "code",
   "execution_count": 18,
   "id": "16a32c54-4588-4385-a84d-cf861370aadf",
   "metadata": {},
   "outputs": [
    {
     "data": {
      "text/plain": [
       "-1"
      ]
     },
     "execution_count": 18,
     "metadata": {},
     "output_type": "execute_result"
    }
   ],
   "source": [
    "cv2.line(img, pt1=(0,0),pt2=(512,512), color=(0,255,0), thickness = 3)\n",
    "cv2.imshow(\"window\", img) # show  filled red circle\n",
    "cv2.waitKey(0)"
   ]
  },
  {
   "cell_type": "markdown",
   "id": "c965eba8-b632-4c1a-9fac-53cea4b44c66",
   "metadata": {},
   "source": [
    "## <b> Adding Text "
   ]
  },
  {
   "cell_type": "code",
   "execution_count": 19,
   "id": "e64288ae-8845-4508-8527-3f1f0710d8bd",
   "metadata": {},
   "outputs": [
    {
     "data": {
      "text/plain": [
       "-1"
      ]
     },
     "execution_count": 19,
     "metadata": {},
     "output_type": "execute_result"
    }
   ],
   "source": [
    "cv2.putText(img, org=(100,100), fontScale=4, color=(0,255,255),thickness=2, lineType=cv2.LINE_AA,text=\"Hello\",fontFace=cv2.FONT_ITALIC)\n",
    "cv2.imshow(\"window\", img) # show  filled red circle\n",
    "cv2.waitKey(0)"
   ]
  },
  {
   "cell_type": "markdown",
   "id": "24b3b5e7-ac0a-44d0-8f36-aebb101d86a0",
   "metadata": {},
   "source": [
    "## EVENT IMAGE"
   ]
  },
  {
   "cell_type": "code",
   "execution_count": 1,
   "id": "945388b0-029f-4622-8760-a2ac16c30500",
   "metadata": {},
   "outputs": [],
   "source": [
    "import cv2\n",
    "import numpy as np"
   ]
  },
  {
   "cell_type": "code",
   "execution_count": 2,
   "id": "ae624373-fd44-469f-8e16-d8433b2d7145",
   "metadata": {},
   "outputs": [],
   "source": [
    "flag = False\n",
    "ix = -1\n",
    "iy = -1\n",
    "\n",
    "\n",
    "\n",
    "def draw(event, x,y,flags,params):\n",
    "    #print(\"Event Triggered\")\n",
    "    #print(event)\n",
    "    \n",
    "    # if event == 0:\n",
    "    #     print(\"Mouse Moved\")\n",
    "    # elif event == 1:\n",
    "    #     print(\"Mouse Down Clicked\")\n",
    "    # elif event == 4:\n",
    "    #     print(\"Mouse Up Clicked\")\n",
    "\n",
    "    \n",
    "    # if event == 1 :\n",
    "    #     cv2.circle(img, center=(x,y),radius=50,color=(0,0,255), thickness = 3) \n",
    "\n",
    "    global flag , ix , iy\n",
    "    \n",
    "    if event == 1 :\n",
    "        flag = True\n",
    "        ix = x\n",
    "        iy = y\n",
    "    elif event == 0:\n",
    "        if flag == True:\n",
    "            cv2.rectangle(img, pt1 = (ix,iy), pt2=(x,y),color=(0,255,255), thickness=-1)\n",
    "        \n",
    "    elif event == 4:\n",
    "        flag = False\n",
    "        cv2.rectangle(img, pt1 = (ix,iy), pt2=(x,y),color=(0,255,255), thickness=-1)\n",
    "\n",
    "\n",
    "\n",
    "cv2.namedWindow(winname=\"window\")\n",
    "cv2.setMouseCallback(\"window\", draw)\n",
    "\n",
    "\n",
    "img = np.zeros((512,512,3))\n",
    "\n",
    "while True :\n",
    "    cv2.imshow(\"window\", img)\n",
    "\n",
    "    if cv2.waitKey(1) & 0xFF == ord('x'):\n",
    "        break\n",
    "        \n",
    "cv2.destroyAllWindows()"
   ]
  },
  {
   "cell_type": "markdown",
   "id": "35f94cfb-acdb-42d6-8f3b-623722cf44a7",
   "metadata": {},
   "source": [
    "## <b> Building a Cropping Tools"
   ]
  },
  {
   "cell_type": "code",
   "execution_count": 17,
   "id": "3a1f58b0-4ffb-43b6-bc82-c77c645ef391",
   "metadata": {},
   "outputs": [],
   "source": [
    "img = cv2.imread(r\"C:\\Users\\ASUS\\Downloads\\airplane.png\")\n",
    "\n",
    "flag = False\n",
    "ix = -1\n",
    "iy = -1\n",
    "\n",
    "def crop(event,x,y,flags,params):\n",
    "    global flag , ix , iy\n",
    "    if event == 1:\n",
    "        flag = True\n",
    "        ix = x\n",
    "        iy = y\n",
    "    # elif event == 0:\n",
    "    #     if flag == True:\n",
    "    #         cv2.rectangle(img, pt1 = (ix,iy), pt2=(x,y),color=(0,0,0), thickness=1)\n",
    "        \n",
    "    elif event == 4:\n",
    "\n",
    "        fx = x\n",
    "        fy = y\n",
    "        \n",
    "        flag = False\n",
    "        cv2.rectangle(img, pt1 = (ix,iy), pt2=(x,y),color=(0,0,0), thickness=1)\n",
    "\n",
    "        # Crop Tools\n",
    "        cropped = img[iy:fy, ix:fx]\n",
    "        cv2.imwrite(\"cropped.png\",cropped)\n",
    "        \n",
    "        cv2.imshow(\"new_window\",cropped)\n",
    "        cv2.waitKey(0)\n",
    "\n",
    "cv2.namedWindow(winname=\"window\")\n",
    "cv2.setMouseCallback(\"window\", crop)\n",
    "\n",
    "while True :\n",
    "    cv2.imshow(\"window\", img)\n",
    "\n",
    "    if cv2.waitKey(1) & 0xFF == ord('x'):\n",
    "        break\n",
    "cv2.destroyAllWindows()"
   ]
  },
  {
   "cell_type": "markdown",
   "id": "4f56df20-5688-400e-ae74-281b8e02d84b",
   "metadata": {},
   "source": [
    "## <b> Working with Videos using OpenCV"
   ]
  },
  {
   "cell_type": "code",
   "execution_count": 4,
   "id": "8e5fb076-9626-48bc-b810-0aa81829434f",
   "metadata": {},
   "outputs": [],
   "source": [
    "cap = cv2.VideoCapture(0)\n",
    "\n",
    "# To Save Video Frame\n",
    "fourcc = cv2.VideoWriter_fourcc(*'XVID')\n",
    "out = cv2.VideoWriter('output.avi',fourcc,20.0,(640,480))\n",
    "\n",
    "while True:\n",
    "    ret, frame = cap.read()\n",
    "\n",
    "    out.write(frame)\n",
    "     \n",
    "    #print(ret)\n",
    "\n",
    "    img_gray = cv2.cvtColor(frame,cv2.COLOR_BGR2GRAY)\n",
    "    \n",
    "    cv2.imshow(\"webcam\", img_gray)\n",
    "    # cv2.imshow(\"webcam\", frame) # RGB\n",
    "\n",
    "    if cv2.waitKey(1) & 0xFF == ord('x'): \n",
    "        break\n",
    "\n",
    "\n",
    "out.release()  # Destroy writer object\n",
    "cv2.destroyAllWindows()\n"
   ]
  },
  {
   "cell_type": "markdown",
   "id": "154fb398-b612-49b7-84bd-aed1d3e5a100",
   "metadata": {},
   "source": [
    "## <b> Playing Video"
   ]
  },
  {
   "cell_type": "code",
   "execution_count": 5,
   "id": "36cb67a7-9b29-4c5d-a16b-6057c27fe947",
   "metadata": {},
   "outputs": [],
   "source": [
    "import cv2\n",
    "import time\n",
    "\n",
    "cap = cv2.VideoCapture('output.avi')\n",
    "\n",
    "while True:\n",
    "    ret, frame = cap.read()\n",
    "\n",
    "    time.sleep(1/20)\n",
    "    cv2.imshow(\"webcam\",frame)\n",
    "   \n",
    "\n",
    "    if cv2.waitKey(1) & 0xFF == ord('x'): \n",
    "        break\n",
    "\n",
    "cv2.destroyAllWindows()"
   ]
  },
  {
   "cell_type": "code",
   "execution_count": null,
   "id": "1f37029d-c954-4f44-b196-2f420d6fab60",
   "metadata": {},
   "outputs": [],
   "source": []
  }
 ],
 "metadata": {
  "kernelspec": {
   "display_name": "Python 3 (ipykernel)",
   "language": "python",
   "name": "python3"
  },
  "language_info": {
   "codemirror_mode": {
    "name": "ipython",
    "version": 3
   },
   "file_extension": ".py",
   "mimetype": "text/x-python",
   "name": "python",
   "nbconvert_exporter": "python",
   "pygments_lexer": "ipython3",
   "version": "3.12.4"
  }
 },
 "nbformat": 4,
 "nbformat_minor": 5
}
